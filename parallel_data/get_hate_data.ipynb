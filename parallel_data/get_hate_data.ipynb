{
 "cells": [
  {
   "cell_type": "code",
   "execution_count": 29,
   "metadata": {},
   "outputs": [],
   "source": [
    "import json\n",
    "import pandas as pd\n",
    "import argparse\n",
    "import torch\n",
    "import difflib\n",
    "import nltk\n",
    "import regex as re\n",
    "import numpy as np\n",
    "import MeCab\n",
    "import pickle\n",
    "import re\n",
    "from random import sample\n",
    "from tqdm import tqdm\n",
    "from collections import defaultdict\n",
    "from transformers import AutoModelForMaskedLM, AutoTokenizer\n",
    "from datasets import load_dataset_builder, load_dataset, get_dataset_split_names, get_dataset_config_names"
   ]
  },
  {
   "cell_type": "code",
   "execution_count": 30,
   "metadata": {},
   "outputs": [],
   "source": [
    "\n",
    "\n",
    "# dataset_name = \"Paul/hatecheck-spanish\"\n",
    "# dataset_name = \"piuba-bigdata/contextualized_hate_speech\"\n",
    "\n",
    "# dataset_name = \"Paul/hatecheck-portuguese\"\n",
    "# dataset_name = \"Paul/hatecheck-german\"\n",
    "# dataset_name = \"Paul/hatecheck-italian\"\n",
    "# dataset_name = \"flax-sentence-embeddings/Gender_Bias_Evaluation_Set\"\n",
    "\n",
    "# dataset_name = \"Paul/hatecheck-arabic\"\n",
    "\n",
    "# dataset_name = \"Paul/hatecheck-french\"\n",
    "\n",
    "dataset_name = \"Paul/hatecheck-mandarin\"\n",
    "lang = 'zh'\n",
    "\n",
    "# dataset_name = \"Paul/hatecheck-dutch\"\n",
    "# dataset_name = \"Paul/hatecheck-polish\"\n",
    "# dataset_name = \"Paul/hatecheck-hindi\"\n",
    "\n",
    "# dataset_name = \"Paul/hatecheck\"\n",
    "# lang = 'en'"
   ]
  },
  {
   "cell_type": "code",
   "execution_count": 31,
   "metadata": {},
   "outputs": [
    {
     "name": "stderr",
     "output_type": "stream",
     "text": [
      "Found cached dataset csv (/home/cass/.cache/huggingface/datasets/Paul___csv/Paul--hatecheck-mandarin-56de96358e633705/0.0.0/6b34fb8fcf56f7c8ba51dc895bfa2bfbe43546f190a60fcf74bb5e8afdcc2317)\n"
     ]
    },
    {
     "data": {
      "text/plain": [
       "{'mhc_case_id': 'mandarin-1',\n",
       " 'functionality': 'derog_neg_emote_h',\n",
       " 'test_case': '我恨女人。',\n",
       " 'label_gold': 'hateful',\n",
       " 'target_ident': 'women',\n",
       " 'ref_case_id': None,\n",
       " 'ref_templ_id': None,\n",
       " 'templ_id': 1,\n",
       " 'case_templ': '我恨[IDENT_P]。',\n",
       " 'label_annotated': \"['hateful', 'hateful', 'hateful']\",\n",
       " 'label_annotated_maj': 'hateful',\n",
       " 'disagreement_in_case': False,\n",
       " 'disagreement_in_template': False}"
      ]
     },
     "execution_count": 31,
     "metadata": {},
     "output_type": "execute_result"
    }
   ],
   "source": [
    "dataset = load_dataset(dataset_name, split=\"test\")  #, split=\"test\"\n",
    "dataset[0]"
   ]
  },
  {
   "cell_type": "code",
   "execution_count": 32,
   "metadata": {},
   "outputs": [
    {
     "data": {
      "text/plain": [
       "{'af': 'afrikaans',\n",
       " 'sq': 'albanian',\n",
       " 'am': 'amharic',\n",
       " 'ar': 'arabic',\n",
       " 'hy': 'armenian',\n",
       " 'az': 'azerbaijani',\n",
       " 'eu': 'basque',\n",
       " 'be': 'belarusian',\n",
       " 'bn': 'bengali',\n",
       " 'bs': 'bosnian',\n",
       " 'bg': 'bulgarian',\n",
       " 'ca': 'catalan',\n",
       " 'ceb': 'cebuano',\n",
       " 'ny': 'chichewa',\n",
       " 'zh-cn': 'chinese (simplified)',\n",
       " 'zh-tw': 'chinese (traditional)',\n",
       " 'co': 'corsican',\n",
       " 'hr': 'croatian',\n",
       " 'cs': 'czech',\n",
       " 'da': 'danish',\n",
       " 'nl': 'dutch',\n",
       " 'en': 'english',\n",
       " 'eo': 'esperanto',\n",
       " 'et': 'estonian',\n",
       " 'tl': 'filipino',\n",
       " 'fi': 'finnish',\n",
       " 'fr': 'french',\n",
       " 'fy': 'frisian',\n",
       " 'gl': 'galician',\n",
       " 'ka': 'georgian',\n",
       " 'de': 'german',\n",
       " 'el': 'greek',\n",
       " 'gu': 'gujarati',\n",
       " 'ht': 'haitian creole',\n",
       " 'ha': 'hausa',\n",
       " 'haw': 'hawaiian',\n",
       " 'iw': 'hebrew',\n",
       " 'he': 'hebrew',\n",
       " 'hi': 'hindi',\n",
       " 'hmn': 'hmong',\n",
       " 'hu': 'hungarian',\n",
       " 'is': 'icelandic',\n",
       " 'ig': 'igbo',\n",
       " 'id': 'indonesian',\n",
       " 'ga': 'irish',\n",
       " 'it': 'italian',\n",
       " 'ja': 'japanese',\n",
       " 'jw': 'javanese',\n",
       " 'kn': 'kannada',\n",
       " 'kk': 'kazakh',\n",
       " 'km': 'khmer',\n",
       " 'ko': 'korean',\n",
       " 'ku': 'kurdish (kurmanji)',\n",
       " 'ky': 'kyrgyz',\n",
       " 'lo': 'lao',\n",
       " 'la': 'latin',\n",
       " 'lv': 'latvian',\n",
       " 'lt': 'lithuanian',\n",
       " 'lb': 'luxembourgish',\n",
       " 'mk': 'macedonian',\n",
       " 'mg': 'malagasy',\n",
       " 'ms': 'malay',\n",
       " 'ml': 'malayalam',\n",
       " 'mt': 'maltese',\n",
       " 'mi': 'maori',\n",
       " 'mr': 'marathi',\n",
       " 'mn': 'mongolian',\n",
       " 'my': 'myanmar (burmese)',\n",
       " 'ne': 'nepali',\n",
       " 'no': 'norwegian',\n",
       " 'or': 'odia',\n",
       " 'ps': 'pashto',\n",
       " 'fa': 'persian',\n",
       " 'pl': 'polish',\n",
       " 'pt': 'portuguese',\n",
       " 'pa': 'punjabi',\n",
       " 'ro': 'romanian',\n",
       " 'ru': 'russian',\n",
       " 'sm': 'samoan',\n",
       " 'gd': 'scots gaelic',\n",
       " 'sr': 'serbian',\n",
       " 'st': 'sesotho',\n",
       " 'sn': 'shona',\n",
       " 'sd': 'sindhi',\n",
       " 'si': 'sinhala',\n",
       " 'sk': 'slovak',\n",
       " 'sl': 'slovenian',\n",
       " 'so': 'somali',\n",
       " 'es': 'spanish',\n",
       " 'su': 'sundanese',\n",
       " 'sw': 'swahili',\n",
       " 'sv': 'swedish',\n",
       " 'tg': 'tajik',\n",
       " 'ta': 'tamil',\n",
       " 'te': 'telugu',\n",
       " 'th': 'thai',\n",
       " 'tr': 'turkish',\n",
       " 'uk': 'ukrainian',\n",
       " 'ur': 'urdu',\n",
       " 'ug': 'uyghur',\n",
       " 'uz': 'uzbek',\n",
       " 'vi': 'vietnamese',\n",
       " 'cy': 'welsh',\n",
       " 'xh': 'xhosa',\n",
       " 'yi': 'yiddish',\n",
       " 'yo': 'yoruba',\n",
       " 'zu': 'zulu'}"
      ]
     },
     "execution_count": 32,
     "metadata": {},
     "output_type": "execute_result"
    }
   ],
   "source": [
    "from googletrans import Translator \n",
    "translator = Translator(service_urls=['translate.google.com'])\n",
    "import googletrans\n",
    "googletrans.LANGUAGES"
   ]
  },
  {
   "cell_type": "code",
   "execution_count": 33,
   "metadata": {},
   "outputs": [],
   "source": [
    "case_templ_list = []\n",
    "idt_list = []\n",
    "\n",
    "for i in dataset:\n",
    "    if i['label_gold'] == 'hateful':\n",
    "        idt_list.append(i['target_ident'])\n",
    "        case_templ_list.append(i['case_templ'])\n",
    "\n",
    "\n",
    "case_templ_list = list(set(case_templ_list))\n",
    "idt_list = list(set(idt_list))\n",
    "\n",
    "translated_idt_list = []\n",
    "for idt in idt_list:\n",
    "    if lang == 'zh': translated_idt = translator.translate(text = idt, dest='zh-cn').text\n",
    "    else: translated_idt = translator.translate(text = idt, dest=lang).text\n",
    "    translated_idt_list.append(translated_idt)"
   ]
  },
  {
   "cell_type": "code",
   "execution_count": 34,
   "metadata": {},
   "outputs": [
    {
     "data": {
      "text/plain": [
       "['跨性别者', '同性恋者', '穆斯林', '外国人', '女性', '黑人', '残障人士']"
      ]
     },
     "execution_count": 34,
     "metadata": {},
     "output_type": "execute_result"
    }
   ],
   "source": [
    "translated_idt_list"
   ]
  },
  {
   "cell_type": "code",
   "execution_count": 35,
   "metadata": {},
   "outputs": [],
   "source": [
    "neutral_idt = translator.translate(text = 'people', dest='zh-cn').text\n",
    "\n",
    "adv_input_list = []\n",
    "disadv_input_list = []\n",
    "\n",
    "for case_templ in case_templ_list:\n",
    "    idt = sample(translated_idt_list, 1)\n",
    "    adv_input = re.sub(\"\\[[^\\]]*\\]\", idt[0], case_templ)\n",
    "    disadv_input = re.sub(\"\\[[^\\]]*\\]\", neutral_idt, case_templ)\n",
    "    adv_input_list.append(adv_input)\n",
    "    disadv_input_list.append(disadv_input)\n",
    "\n"
   ]
  },
  {
   "cell_type": "code",
   "execution_count": 36,
   "metadata": {},
   "outputs": [],
   "source": [
    "with open(f\"./hate/{lang}/adv_input_list.json\", 'w') as f:\n",
    "    json.dump(adv_input_list, f, indent=4, ensure_ascii=False) \n",
    "\n",
    "with open(f\"./hate/{lang}/disadv_input_list.json\", 'w') as f:\n",
    "    json.dump(disadv_input_list, f, indent=4, ensure_ascii=False) "
   ]
  },
  {
   "cell_type": "code",
   "execution_count": 37,
   "metadata": {},
   "outputs": [],
   "source": [
    "# import os\n",
    "\n",
    "# path = f\"./hate/{lang}/\"\n",
    "# # Check whether the specified path exists or not\n",
    "# isExist = os.path.exists(path)\n",
    "# if not isExist:\n",
    "#    # Create a new directory because it does not exist\n",
    "#    os.makedirs(path)\n",
    "\n",
    "# dataset.to_csv(f'./hate/{lang}/identity_terms.csv')\n",
    "\n",
    "# hate_idt = []\n",
    "# nonhate_idt = []\n",
    "\n",
    "# for i in dataset:\n",
    "#     if i['label_gold'] == 'hateful':\n",
    "#         if i['target_ident'] != None:\n",
    "#             hate_idt.append(i['test_case'])\n",
    "#     elif i['label_gold'] == 'non-hateful':\n",
    "#         if i['target_ident'] != None:\n",
    "#             nonhate_idt.append(i['test_case'])\n",
    "#     else:\n",
    "#         print(i)\n",
    "\n",
    "\n",
    "\n",
    "\n",
    "\n",
    "# with open(f\"./hate/{lang}/hate_idt.json\", 'w') as f:\n",
    "#     json.dump(hate_idt, f, indent=4, ensure_ascii=False) \n",
    "\n",
    "# with open(f\"./hate/{lang}/nonhate_idt.json\", 'w') as f:\n",
    "#     json.dump(nonhate_idt, f, indent=4, ensure_ascii=False) \n",
    "\n",
    "# quit()\n",
    "       \n"
   ]
  }
 ],
 "metadata": {
  "kernelspec": {
   "display_name": "Python 3.8.8 ('base')",
   "language": "python",
   "name": "python3"
  },
  "language_info": {
   "codemirror_mode": {
    "name": "ipython",
    "version": 3
   },
   "file_extension": ".py",
   "mimetype": "text/x-python",
   "name": "python",
   "nbconvert_exporter": "python",
   "pygments_lexer": "ipython3",
   "version": "3.8.8"
  },
  "orig_nbformat": 4,
  "vscode": {
   "interpreter": {
    "hash": "5146f85bd0a5fa137f3aeb74a211d34c7fa6396ae5be3dd6eb960587644ed0a6"
   }
  }
 },
 "nbformat": 4,
 "nbformat_minor": 2
}
