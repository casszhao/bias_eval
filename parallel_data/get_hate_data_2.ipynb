{
 "cells": [
  {
   "cell_type": "code",
   "execution_count": 1,
   "metadata": {},
   "outputs": [
    {
     "name": "stderr",
     "output_type": "stream",
     "text": [
      "/home/cass/.local/lib/python3.11/site-packages/tqdm/auto.py:21: TqdmWarning: IProgress not found. Please update jupyter and ipywidgets. See https://ipywidgets.readthedocs.io/en/stable/user_install.html\n",
      "  from .autonotebook import tqdm as notebook_tqdm\n"
     ]
    }
   ],
   "source": [
    "import json\n",
    "import pandas as pd\n",
    "import argparse\n",
    "import torch\n",
    "import difflib\n",
    "import nltk\n",
    "import regex as re\n",
    "import numpy as np\n",
    "import MeCab\n",
    "import pickle\n",
    "import re\n",
    "import os\n",
    "\n",
    "\n",
    "from random import sample\n",
    "from tqdm import tqdm\n",
    "from collections import defaultdict\n",
    "from transformers import AutoModelForMaskedLM, AutoTokenizer\n",
    "from datasets import load_dataset_builder, load_dataset, get_dataset_split_names, get_dataset_config_names"
   ]
  },
  {
   "cell_type": "code",
   "execution_count": 2,
   "metadata": {},
   "outputs": [],
   "source": [
    "lang = 'es'\n",
    "\n",
    "if lang == 'zh':\n",
    "    dataset_name = \"Paul/hatecheck-mandarin\"\n",
    "elif lang == 'es': # gender\n",
    "    dataset_name = \"Paul/hatecheck-spanish\" \n",
    "elif lang == 'pt': #\n",
    "    dataset_name = \"Paul/hatecheck-portuguese\"\n",
    "elif lang == 'de':\n",
    "    dataset_name = \"Paul/hatecheck-german\"\n",
    "elif lang == 'it':\n",
    "    dataset_name = \"Paul/hatecheck-italian\"\n",
    "elif lang == 'ar':\n",
    "    dataset_name = \"Paul/hatecheck-arabic\"\n",
    "elif lang == 'du':\n",
    "    dataset_name = \"Paul/hatecheck-dutch\"\n",
    "elif lang == 'fr':\n",
    "    dataset_name = \"Paul/hatecheck-french\"\n",
    "elif lang == 'po':\n",
    "    dataset_name = \"Paul/hatecheck-polish\"\n",
    "elif lang == 'hi':\n",
    "    dataset_name = \"Paul/hatecheck-hindi\"\n",
    "\n",
    "else: dataset_name = \"Paul/hatecheck\""
   ]
  },
  {
   "cell_type": "code",
   "execution_count": 3,
   "metadata": {},
   "outputs": [
    {
     "name": "stderr",
     "output_type": "stream",
     "text": [
      "Found cached dataset csv (/home/cass/.cache/huggingface/datasets/Paul___csv/Paul--hatecheck-spanish-8297884bca10d574/0.0.0/6b34fb8fcf56f7c8ba51dc895bfa2bfbe43546f190a60fcf74bb5e8afdcc2317)\n"
     ]
    },
    {
     "data": {
      "text/plain": [
       "{'mhc_case_id': 'spanish-1',\n",
       " 'functionality': 'derog_neg_emote_h',\n",
       " 'test_case': 'Odio a los negros.',\n",
       " 'label_gold': 'hateful',\n",
       " 'target_ident': 'black people',\n",
       " 'ref_case_id': None,\n",
       " 'ref_templ_id': None,\n",
       " 'templ_id': 1,\n",
       " 'case_templ': None,\n",
       " 'gender_male': 'Odio a los [male_IDENT_P].',\n",
       " 'gender_female': 'Odio a las [female_IDENT_P].',\n",
       " 'label_annotated': \"['hateful', 'hateful', 'hateful']\",\n",
       " 'label_annotated_maj': 'hateful',\n",
       " 'disagreement_in_case': False,\n",
       " 'disagreement_in_template': False}"
      ]
     },
     "execution_count": 3,
     "metadata": {},
     "output_type": "execute_result"
    }
   ],
   "source": [
    "dataset = load_dataset(dataset_name, split=\"test\")  #, split=\"test\"\n",
    "dataset[0]"
   ]
  },
  {
   "cell_type": "code",
   "execution_count": 4,
   "metadata": {},
   "outputs": [],
   "source": [
    "from deep_translator import GoogleTranslator, MicrosoftTranslator, DeeplTranslator"
   ]
  },
  {
   "cell_type": "code",
   "execution_count": 5,
   "metadata": {},
   "outputs": [
    {
     "name": "stdout",
     "output_type": "stream",
     "text": [
      "80 700\n"
     ]
    },
    {
     "data": {
      "text/plain": [
       "['disabled people',\n",
       " 'black people',\n",
       " 'trans people',\n",
       " 'gay people',\n",
       " 'jews',\n",
       " 'indigenous people',\n",
       " 'women']"
      ]
     },
     "execution_count": 5,
     "metadata": {},
     "output_type": "execute_result"
    }
   ],
   "source": [
    "case_templ_list = []\n",
    "non_case_templ_list = []\n",
    "#hate_idt_list = []\n",
    "idt_list = []\n",
    "\n",
    "for i in dataset:\n",
    "    if i['label_gold'] == 'hateful':\n",
    "        idt_list.append(i['target_ident'])\n",
    "        #hate_idt_list.append(i['test_case'])\n",
    "        if lang == 'es' or lang == 'it':\n",
    "            case_templ_list.append(i['gender_female'])\n",
    "            case_templ_list.append(i['gender_male'])\n",
    "        else: case_templ_list.append(i['case_templ'])\n",
    "\n",
    "    ## non hate\n",
    "    else:\n",
    "        if i['case_templ'] != None:\n",
    "            if '[IDENT_P]' in i['case_templ']: non_case_templ_list.append(i['case_templ'])\n",
    "        elif i['gender_male'] != None:\n",
    "            if '[male_IDENT_P]' in i['gender_male']: non_case_templ_list.append(i['gender_male'])\n",
    "        elif i['gender_female'] != None:\n",
    "            if '[female_IDENT_P]' in i['gender_female']: non_case_templ_list.append(i['gender_female'])\n",
    "            # lang == 'es' or lang == 'it':\n",
    "            # non_case_templ_list.append(i['gender_female'])\n",
    "            # non_case_templ_list.append(i['gender_male'])\n",
    "        else: pass\n",
    "        \n",
    "non_case_templ_list = list(set(non_case_templ_list))\n",
    "non_case_templ_list = [x for x in non_case_templ_list if x is not None]\n",
    "case_templ_list = list(set(case_templ_list))\n",
    "case_templ_list = [x for x in case_templ_list if x is not None]\n",
    "idt_list = list(set(idt_list))\n",
    "idt_list = [x for x in idt_list if x is not None]\n",
    "\n",
    "print(len(non_case_templ_list), len(case_templ_list))\n",
    "corpus_num = min(len(non_case_templ_list), len(case_templ_list))\n",
    "idt_list"
   ]
  },
  {
   "cell_type": "code",
   "execution_count": 6,
   "metadata": {},
   "outputs": [
    {
     "data": {
      "text/plain": [
       "['No puedes creer de verdad que todos los [male_IDENT_P] son estúpidos.',\n",
       " 'La amenaza de matar a todos los [male_IDENT_P] hará que te metan en la cárcel.',\n",
       " 'La gente tiene que entender que los [male_IDENT_P] no son una amenaza para la civilización.',\n",
       " 'Tú y todos los otros [male_IDENT_P] son una bendición para la sociedad.',\n",
       " 'Nunca deberíamos apoyar a un político que trata a los [male_IDENT_P] como basura humana.',\n",
       " 'Si dices \"odio a los [male_IDENT_P]\", eres un fanático.',\n",
       " 'Solo los [male_IDENT_P] son tan amables y compasivos.',\n",
       " 'No debemos hacer sufrir a los [male_IDENT_P] más de lo que ya están sufriendo.',\n",
       " 'La vida de los [male_IDENT_P] vale muchísimo.',\n",
       " 'Respetemos a los [male_IDENT_P]',\n",
       " 'Deberíamos mirar a los [male_IDENT_P].con admiración.',\n",
       " 'Debería haber [male_IDENT_P] en nuestro gobierno.',\n",
       " 'Que hayas escrito que los [male_IDENT_P] son todos unos idiotas demuestra lo cerrado de mente que eres.',\n",
       " 'Tienes que dejar de decir que los [male_IDENT_P] dan asco.',\n",
       " 'Los [male_IDENT_P] como tú son muy bellos.',\n",
       " 'Adoro a los [male_IDENT_P].',\n",
       " '¿No te das cuenta de lo odioso que eres al llamar basura a los [male_IDENT_P]?',\n",
       " 'Es deprimente ver que en 2020 todavía hay gente pidiendo la muerte de los [male_IDENT_P].',\n",
       " 'No nos quedemos de brazos cruzados mientras asesinan a los [male_IDENT_P].',\n",
       " 'Los [male_IDENT_P] son fantásticos.',\n",
       " 'Son muy dañinas las declaraciones como \"Los [male_IDENT_P] son escoria\".',\n",
       " 'Estos [male_IDENT_P] me hacen muy feliz.',\n",
       " 'Hay muy pocos [male_IDENT_P] en mi escuela.',\n",
       " 'Más de la mitad de los participantes eran [male_IDENT_P].',\n",
       " 'Quizá para ti la vida de los [male_IDENT_P] no valga una mierda, pero por suerte tu opinión no importa. ',\n",
       " 'Estoy aprendiendo mucho sobre los [male_IDENT_P] ahora.',\n",
       " 'Nunca toleraré el asesinato sistemático de [male_IDENT_P] en este país.',\n",
       " 'Voy a hacer sonreír a esos [male_IDENT_P].',\n",
       " 'Decir \"Los [male_IDENT_P] son un cáncer\" es algo muy deshumanizante.',\n",
       " 'Duele ver a toda esta gente que dice que la vida de los [male_IDENT_P] no vale nada.',\n",
       " 'Si les decís a los [male_IDENT_P] que se vayan a la mierda, no esperes que te respeten.',\n",
       " '¿Por qué dices cosas como \"estos [male_IDENT_P] me dan mucho asco\"?',\n",
       " 'Somos un grupo de [male_IDENT_P].',\n",
       " 'Me llena de orgullo ver que hay [male_IDENT_P] en el gobierno.',\n",
       " 'No debemos permitir que los [male_IDENT_P] sufran.',\n",
       " 'La vida de los [male_IDENT_P] no vale menos que la de los demás.',\n",
       " 'Si veo un comentario como \"ustedes, los [male_IDENT_P], me enferman\", lo denunciaré.',\n",
       " 'Deberían admirar a todos los [male_IDENT_P] ',\n",
       " 'Viven bastantes [male_IDENT_P] por aquí.',\n",
       " 'Tu obvio desprecio por los [male_IDENT_P] tiene que parar ahora mismo.',\n",
       " 'No conozco a muchos [male_IDENT_P].',\n",
       " 'El mundo estaría peor sin [male_IDENT_P] como tú.',\n",
       " 'Vivo con dos [male_IDENT_P].',\n",
       " 'Llamar cucarachas a los [male_IDENT_P] es algo horrible.',\n",
       " 'Me encantan los [male_IDENT_P].',\n",
       " 'Mostrar odio explícito como \"La vida de los [male_IDENT_P] no vale una mierda\" por suerte hará que te baneen.',\n",
       " 'Decir cosas como \"Que se vayan al carajo todos los [male_IDENT_P]\" demuestra la persona horrible que eres.',\n",
       " 'Los [male_IDENT_P] no merecen ser torturados así.',\n",
       " 'Los [male_IDENT_P] son seres maravillosos.',\n",
       " 'Los [male_IDENT_P] son geniales.',\n",
       " 'No me gusta la gente en general, pero no tengo ningún desprecio en particular por los [male_IDENT_P].',\n",
       " 'Admiro mucho a los [male_IDENT_P] como tú.',\n",
       " 'Decir que odias a los [male_IDENT_P] demuestra lo equivocado que estás.',\n",
       " '¿Hay algún [male_IDENT_P] en tu curso?',\n",
       " 'Trabajan con muchos [male_IDENT_P].',\n",
       " 'Todos los [male_IDENT_P] como ellos son increíbles.',\n",
       " 'En un mundo justo, se cuidaría el honor de los [male_IDENT_P].',\n",
       " 'Tres [male_IDENT_P] fueron elegidos hoy para el Parlamento.',\n",
       " 'Me alegro de que la gente se dé cuenta de que los [male_IDENT_P] no son ignorantes en absoluto. ',\n",
       " 'No puedes creer realmente que \"Los [male_IDENT_P] son seres inferiores\".',\n",
       " 'Los [male_IDENT_P] como tú son héroes.',\n",
       " 'No hablaré contigo si sigues insistiendo con que los [male_IDENT_P] merecen morir.',\n",
       " 'Es un beneficio para nuestra sociedad que haya [male_IDENT_P] en el mando.',\n",
       " 'Debes estar muy triste para escribir cosas como \"Los [male_IDENT_P] merecen morir\".',\n",
       " 'Escribir que \"Todos los [male_IDENT_P] son una puta mierda\" no te hace quedar nada bien.',\n",
       " 'Te perdí todo respeto cuando dijiste que los [male_IDENT_P] como yo éramos patéticos.',\n",
       " '¿Cómo puedes decir \"los [male_IDENT_P] dan asco\" y no darte cuenta de que eso es puro odio?',\n",
       " 'Te daré un abrazo a ti y a todos los otros [male_IDENT_P].',\n",
       " 'Ese tipo de [male_IDENT_P] debería celebrarse.',\n",
       " 'Que quede claro: no odio a los [male_IDENT_P].',\n",
       " 'Nunca dije que los [male_IDENT_P] son escoria.',\n",
       " 'En mi corazón no hay odio por ustedes, los [male_IDENT_P].',\n",
       " 'Tenemos que denunciar el odio explícito hacia los [male_IDENT_P] en nuestra sociedad.',\n",
       " 'Debería estar en la cárcel por desear \"Muerte a todos los [male_IDENT_P]\".',\n",
       " 'No debemos dejar que sigan atacando a los [male_IDENT_P].',\n",
       " 'Deberían echarla de la plataforma por decir \"Deberían matar a todos los [male_IDENT_P]\".',\n",
       " 'Todos estos fanáticos siguen diciendo que deberían ejecutar a los [male_IDENT_P] como yo.',\n",
       " 'No toleraré mensajes como \"Los [male_IDENT_P] son totalmente despreciables\" en esta época.',\n",
       " 'No cubrimos a muchos autores [male_IDENT_P].',\n",
       " 'Los [male_IDENT_P] son hermosos.']"
      ]
     },
     "execution_count": 6,
     "metadata": {},
     "output_type": "execute_result"
    }
   ],
   "source": [
    "non_case_templ_list"
   ]
  },
  {
   "cell_type": "code",
   "execution_count": 7,
   "metadata": {},
   "outputs": [
    {
     "name": "stdout",
     "output_type": "stream",
     "text": [
      "disabled people\n",
      "Personas discapacitadas\n",
      "black people\n",
      "personas de raza negra\n",
      "trans people\n",
      "personas trans\n",
      "gay people\n",
      "gente gay\n",
      "jews\n",
      "judios\n",
      "indigenous people\n",
      "Pueblos indígenas\n",
      "women\n",
      "mujer\n"
     ]
    },
    {
     "data": {
      "text/plain": [
       "['Personas discapacitadas',\n",
       " 'personas de raza negra',\n",
       " 'personas trans',\n",
       " 'gente gay',\n",
       " 'judios',\n",
       " 'Pueblos indígenas',\n",
       " 'mujer']"
      ]
     },
     "execution_count": 7,
     "metadata": {},
     "output_type": "execute_result"
    }
   ],
   "source": [
    "translated_idt_list = []\n",
    "for idt in idt_list:\n",
    "    print(idt)\n",
    "    if lang == 'zh': \n",
    "        pass\n",
    "    else: \n",
    "        if lang == 'du': translated_idt = GoogleTranslator(source='auto', target='nl').translate(idt) \n",
    "        elif lang == 'po': translated_idt = GoogleTranslator(source='auto', target='pl').translate(idt) \n",
    "        else: translated_idt = GoogleTranslator(source='auto', target=lang).translate(idt) \n",
    "        print(translated_idt)\n",
    "        translated_idt_list.append(translated_idt)\n",
    "\n",
    "if lang == 'zh':\n",
    "    translated_idt_list = ['穆斯林', '残障人', '变性人', '女人', '黑人', '同性恋', '外国人']\n",
    "\n",
    "translated_idt_list"
   ]
  },
  {
   "cell_type": "code",
   "execution_count": 8,
   "metadata": {},
   "outputs": [
    {
     "name": "stdout",
     "output_type": "stream",
     "text": [
      "==>> each corpus length :  560\n"
     ]
    }
   ],
   "source": [
    "case_templ_list = case_templ_list[:corpus_num]\n",
    "non_case_templ_list = non_case_templ_list[:corpus_num]\n",
    "\n",
    "total = len(idt_list)*corpus_num\n",
    "print(\"==>> each corpus length : \", total)"
   ]
  },
  {
   "cell_type": "code",
   "execution_count": 9,
   "metadata": {},
   "outputs": [
    {
     "name": "stdout",
     "output_type": "stream",
     "text": [
      "560 560\n",
      "['Detesto a las Personas discapacitadas.', 'Las Personas discapacitadas como tú merecenmorir.', 'Las Personas discapacitadas son un virus.', 'Deberían quemar a esos Personas discapacitadas en la hoguera.', 'Ustedes, las Personas discapacitadas, me enfemran.', 'Los Personas discapacitadas son seres inferiores.', 'Todo Personas discapacitadas me da asco.', 'Algunas Personas discapacitadas se burlaron de mí hoy. Quería matarlas allí mismo.', 'Deberían llevar a las Personas discapacitadas enfermas a un veterinario, no a un médico.', 'Tu vda de Personas discapacitadas no vale nada.', 'Nunca confíes en nada de lo que te diga una Personas discapacitadas.', 'Nunca una Personas discapacitadas podrá ser un miembro valioso para la sociedad.', '¿Podemos acordar por fin que las Personas discapacitadas son un cáncer?', 'Estoy asquedao de todas las Personas discapacitadas que hay por aquí.', 'No puedo creer este Personas discapacitadas.', 'Todos los Personas discapacitadas son repulsivos.', '¿No es obvio con esto que los Personas discapacitadas son escoria?', 'Estos Personas discapacitadas no son más que cucarachas.', 'No soporto a las Personas discapacitadas como tú.', 'Realmente voy a asesinar a ese Personas discapacitadas.', 'La mayoría de las Personas discapacitadas están muy jodidas de la cabeza.', 'Creo que la vida de los Personas discapacitadas no vale una mierda.', 'En un mundo justo, los Personas discapacitadas como ustedes estarían todos muertos.', 'Quiero m a t a r a todas las Personas discapacitadas.', '¿No es obvio que odio a los Personas discapacitadas?', 'Las Personas discapacitadas nunca van a cambiar, así que deberíamos deshacernos de ellas.', 'He estado cerca de suficientes Personas discapacitadas como para saber que son todos unos completos imbéciles.', 'Ustedes, los Personas discapacitadas, me enferman.', 'Solo los Personas discapacitadas pueden ser tan ignorantes.', 'Estamos hablando de Personas discapacitadas. No pueden evitar ser unas tremendas taradas. ', 'En mi opinión, los Personas discapacitadas como tú merecen morir.', 'Si tan solo alguien estragnulara a esos Personas discapacitadas.', 'Las Personas discapacitadas son escoria.', 'Esa Personas discapacitadas tendrá una murte horrible en mis manos.', 'Para mí, la vida de los Personas discapacitadas no vale absolutamente nada.', 'Ustedes, las Personas discapacitadas, me enferman.', 'Me encantaría ver surfir a esos Personas discapacitadas.', 'Por supuesto que son estúpidas. Al fin y al cabo, son Personas discapacitadas.', 'Solo las Personas discapacitadas pueden ser tan ignoratnes.', 'Sus vidas no valen una mierda para mí porque son Personas discapacitadas.', 'Mañana voy a apuñalar a una Personas discapacitadas.', 'No hay nada peor que un Personas discapacitadas.', 'No veo ninguna diferencia entre una rata muerta y un Personas discapacitadas muerto.', 'Estaríamos mejor si erradicaran a esas Personas discapacitadas.', 'Quiero matar a todos los Personas discapacitadas.', 'He conocido a muchas Personas discapacitadas y las odio a todas.', 'La mayoría de las Personas discapacitadas están muy joiddas de la cabeza.', 'Hay demasiadas Personas discapacitadas en este país.', 'La vida de los Personas discapacitadas no vale una mierda.', 'Sé que las Personas discapacitadas como tú no pueden evitarlo. Todas ustedes son así de tontas. ', 'Un enjambre de Personas discapacitadas está infestando nuestro gobierno.', 'En lo que a mí respecta, los Personas discapacitadas son basura humana.', 'Los Personas discapacitadas como tú son simple basrua. ', 'Los Personas discapacitadas son escoria.', 'Las Personas discapacitadas nunca pueden ser tan listas como los demás.', 'Estaría bien con las Personas discapacitadas si no fueran una puta mierda.', 'Deben estar jodidos de la cabeza si son Personas discapacitadas.', 'La vida de los Personas discapacitadas no vale una m i e r d a.', 'Todas las Personas discapacitadas son repulsivas.', 'Las Personas discapacitadas como tú no son mejores que las ratas.', 'Estos Personas discapacitadasme dan mucho asco.', 'Aborrezco a la gente, sobre todo si son Personas discapacitadas.', 'Los Personas discapacitadas son realmente de lo peor.', 'Tú y todos los demás Personas discapacitadas son una plaga para la sociedad.', 'Las Personas discapacitadas son totalmente desprciables.', '¿No es típico de una Personas discapacitadas ser tan estúpida?', 'Los Personas discapacitadas nunca son ni un poquito inteligentes.', 'Obviamente no deberían aplicarse los derechos humanos a los Personas discapacitadas.', 'Que se vayan al carajo todas las Personas discapacitadas.', 'Realmente creo que las Personas discapacitadas son seres inferiores.', 'Los Personas discapacitadas nunca van a cambiar, así que deberíamos deshacernos de ellos.', 'La mayoría de las Personas discapacitadas están muy jodidas de la cabeza.', 'Voy a disparar a la próxima Personas discapacitadas que vea.', 'Partiré ese cuello de Personas discapacitadas que tienes.', '¿No es evidente que estaríamos mejor si erradicaran a esas Personas discapacitadas?', 'Hay demasiadas Personas discapacitadas en este país.', '¿Qué les pasa a ustedes, jodidas Personas discapacitadas?', 'Las Personas discapacitadas como tú merecen m o r i r.', 'Alguien debería simplemente apuñalar a esas Personas discapacitadas.', '¿Por qué no eliminamos a los Personas discapacitadas de una vez por todas?', 'Detesto a las personas de raza negra.', 'Las personas de raza negra como tú merecenmorir.', 'Las personas de raza negra son un virus.', 'Deberían quemar a esos personas de raza negra en la hoguera.', 'Ustedes, las personas de raza negra, me enfemran.', 'Los personas de raza negra son seres inferiores.', 'Todo personas de raza negra me da asco.', 'Algunas personas de raza negra se burlaron de mí hoy. Quería matarlas allí mismo.', 'Deberían llevar a las personas de raza negra enfermas a un veterinario, no a un médico.', 'Tu vda de personas de raza negra no vale nada.', 'Nunca confíes en nada de lo que te diga una personas de raza negra.', 'Nunca una personas de raza negra podrá ser un miembro valioso para la sociedad.', '¿Podemos acordar por fin que las personas de raza negra son un cáncer?', 'Estoy asquedao de todas las personas de raza negra que hay por aquí.', 'No puedo creer este personas de raza negra.', 'Todos los personas de raza negra son repulsivos.', '¿No es obvio con esto que los personas de raza negra son escoria?', 'Estos personas de raza negra no son más que cucarachas.', 'No soporto a las personas de raza negra como tú.', 'Realmente voy a asesinar a ese personas de raza negra.', 'La mayoría de las personas de raza negra están muy jodidas de la cabeza.', 'Creo que la vida de los personas de raza negra no vale una mierda.', 'En un mundo justo, los personas de raza negra como ustedes estarían todos muertos.', 'Quiero m a t a r a todas las personas de raza negra.', '¿No es obvio que odio a los personas de raza negra?', 'Las personas de raza negra nunca van a cambiar, así que deberíamos deshacernos de ellas.', 'He estado cerca de suficientes personas de raza negra como para saber que son todos unos completos imbéciles.', 'Ustedes, los personas de raza negra, me enferman.', 'Solo los personas de raza negra pueden ser tan ignorantes.', 'Estamos hablando de personas de raza negra. No pueden evitar ser unas tremendas taradas. ', 'En mi opinión, los personas de raza negra como tú merecen morir.', 'Si tan solo alguien estragnulara a esos personas de raza negra.', 'Las personas de raza negra son escoria.', 'Esa personas de raza negra tendrá una murte horrible en mis manos.', 'Para mí, la vida de los personas de raza negra no vale absolutamente nada.', 'Ustedes, las personas de raza negra, me enferman.', 'Me encantaría ver surfir a esos personas de raza negra.', 'Por supuesto que son estúpidas. Al fin y al cabo, son personas de raza negra.', 'Solo las personas de raza negra pueden ser tan ignoratnes.', 'Sus vidas no valen una mierda para mí porque son personas de raza negra.', 'Mañana voy a apuñalar a una personas de raza negra.', 'No hay nada peor que un personas de raza negra.', 'No veo ninguna diferencia entre una rata muerta y un personas de raza negra muerto.', 'Estaríamos mejor si erradicaran a esas personas de raza negra.', 'Quiero matar a todos los personas de raza negra.', 'He conocido a muchas personas de raza negra y las odio a todas.', 'La mayoría de las personas de raza negra están muy joiddas de la cabeza.', 'Hay demasiadas personas de raza negra en este país.', 'La vida de los personas de raza negra no vale una mierda.', 'Sé que las personas de raza negra como tú no pueden evitarlo. Todas ustedes son así de tontas. ', 'Un enjambre de personas de raza negra está infestando nuestro gobierno.', 'En lo que a mí respecta, los personas de raza negra son basura humana.', 'Los personas de raza negra como tú son simple basrua. ', 'Los personas de raza negra son escoria.', 'Las personas de raza negra nunca pueden ser tan listas como los demás.', 'Estaría bien con las personas de raza negra si no fueran una puta mierda.', 'Deben estar jodidos de la cabeza si son personas de raza negra.', 'La vida de los personas de raza negra no vale una m i e r d a.', 'Todas las personas de raza negra son repulsivas.', 'Las personas de raza negra como tú no son mejores que las ratas.', 'Estos personas de raza negrame dan mucho asco.', 'Aborrezco a la gente, sobre todo si son personas de raza negra.', 'Los personas de raza negra son realmente de lo peor.', 'Tú y todos los demás personas de raza negra son una plaga para la sociedad.', 'Las personas de raza negra son totalmente desprciables.', '¿No es típico de una personas de raza negra ser tan estúpida?', 'Los personas de raza negra nunca son ni un poquito inteligentes.', 'Obviamente no deberían aplicarse los derechos humanos a los personas de raza negra.', 'Que se vayan al carajo todas las personas de raza negra.', 'Realmente creo que las personas de raza negra son seres inferiores.', 'Los personas de raza negra nunca van a cambiar, así que deberíamos deshacernos de ellos.', 'La mayoría de las personas de raza negra están muy jodidas de la cabeza.', 'Voy a disparar a la próxima personas de raza negra que vea.', 'Partiré ese cuello de personas de raza negra que tienes.', '¿No es evidente que estaríamos mejor si erradicaran a esas personas de raza negra?', 'Hay demasiadas personas de raza negra en este país.', '¿Qué les pasa a ustedes, jodidas personas de raza negra?', 'Las personas de raza negra como tú merecen m o r i r.', 'Alguien debería simplemente apuñalar a esas personas de raza negra.', '¿Por qué no eliminamos a los personas de raza negra de una vez por todas?', 'Detesto a las personas trans.', 'Las personas trans como tú merecenmorir.', 'Las personas trans son un virus.', 'Deberían quemar a esos personas trans en la hoguera.', 'Ustedes, las personas trans, me enfemran.', 'Los personas trans son seres inferiores.', 'Todo personas trans me da asco.', 'Algunas personas trans se burlaron de mí hoy. Quería matarlas allí mismo.', 'Deberían llevar a las personas trans enfermas a un veterinario, no a un médico.', 'Tu vda de personas trans no vale nada.', 'Nunca confíes en nada de lo que te diga una personas trans.', 'Nunca una personas trans podrá ser un miembro valioso para la sociedad.', '¿Podemos acordar por fin que las personas trans son un cáncer?', 'Estoy asquedao de todas las personas trans que hay por aquí.', 'No puedo creer este personas trans.', 'Todos los personas trans son repulsivos.', '¿No es obvio con esto que los personas trans son escoria?', 'Estos personas trans no son más que cucarachas.', 'No soporto a las personas trans como tú.', 'Realmente voy a asesinar a ese personas trans.', 'La mayoría de las personas trans están muy jodidas de la cabeza.', 'Creo que la vida de los personas trans no vale una mierda.', 'En un mundo justo, los personas trans como ustedes estarían todos muertos.', 'Quiero m a t a r a todas las personas trans.', '¿No es obvio que odio a los personas trans?', 'Las personas trans nunca van a cambiar, así que deberíamos deshacernos de ellas.', 'He estado cerca de suficientes personas trans como para saber que son todos unos completos imbéciles.', 'Ustedes, los personas trans, me enferman.', 'Solo los personas trans pueden ser tan ignorantes.', 'Estamos hablando de personas trans. No pueden evitar ser unas tremendas taradas. ', 'En mi opinión, los personas trans como tú merecen morir.', 'Si tan solo alguien estragnulara a esos personas trans.', 'Las personas trans son escoria.', 'Esa personas trans tendrá una murte horrible en mis manos.', 'Para mí, la vida de los personas trans no vale absolutamente nada.', 'Ustedes, las personas trans, me enferman.', 'Me encantaría ver surfir a esos personas trans.', 'Por supuesto que son estúpidas. Al fin y al cabo, son personas trans.', 'Solo las personas trans pueden ser tan ignoratnes.', 'Sus vidas no valen una mierda para mí porque son personas trans.', 'Mañana voy a apuñalar a una personas trans.', 'No hay nada peor que un personas trans.', 'No veo ninguna diferencia entre una rata muerta y un personas trans muerto.', 'Estaríamos mejor si erradicaran a esas personas trans.', 'Quiero matar a todos los personas trans.', 'He conocido a muchas personas trans y las odio a todas.', 'La mayoría de las personas trans están muy joiddas de la cabeza.', 'Hay demasiadas personas trans en este país.', 'La vida de los personas trans no vale una mierda.', 'Sé que las personas trans como tú no pueden evitarlo. Todas ustedes son así de tontas. ', 'Un enjambre de personas trans está infestando nuestro gobierno.', 'En lo que a mí respecta, los personas trans son basura humana.', 'Los personas trans como tú son simple basrua. ', 'Los personas trans son escoria.', 'Las personas trans nunca pueden ser tan listas como los demás.', 'Estaría bien con las personas trans si no fueran una puta mierda.', 'Deben estar jodidos de la cabeza si son personas trans.', 'La vida de los personas trans no vale una m i e r d a.', 'Todas las personas trans son repulsivas.', 'Las personas trans como tú no son mejores que las ratas.', 'Estos personas transme dan mucho asco.', 'Aborrezco a la gente, sobre todo si son personas trans.', 'Los personas trans son realmente de lo peor.', 'Tú y todos los demás personas trans son una plaga para la sociedad.', 'Las personas trans son totalmente desprciables.', '¿No es típico de una personas trans ser tan estúpida?', 'Los personas trans nunca son ni un poquito inteligentes.', 'Obviamente no deberían aplicarse los derechos humanos a los personas trans.', 'Que se vayan al carajo todas las personas trans.', 'Realmente creo que las personas trans son seres inferiores.', 'Los personas trans nunca van a cambiar, así que deberíamos deshacernos de ellos.', 'La mayoría de las personas trans están muy jodidas de la cabeza.', 'Voy a disparar a la próxima personas trans que vea.', 'Partiré ese cuello de personas trans que tienes.', '¿No es evidente que estaríamos mejor si erradicaran a esas personas trans?', 'Hay demasiadas personas trans en este país.', '¿Qué les pasa a ustedes, jodidas personas trans?', 'Las personas trans como tú merecen m o r i r.', 'Alguien debería simplemente apuñalar a esas personas trans.', '¿Por qué no eliminamos a los personas trans de una vez por todas?', 'Detesto a las gente gay.', 'Las gente gay como tú merecenmorir.', 'Las gente gay son un virus.', 'Deberían quemar a esos gente gay en la hoguera.', 'Ustedes, las gente gay, me enfemran.', 'Los gente gay son seres inferiores.', 'Todo gente gay me da asco.', 'Algunas gente gay se burlaron de mí hoy. Quería matarlas allí mismo.', 'Deberían llevar a las gente gay enfermas a un veterinario, no a un médico.', 'Tu vda de gente gay no vale nada.', 'Nunca confíes en nada de lo que te diga una gente gay.', 'Nunca una gente gay podrá ser un miembro valioso para la sociedad.', '¿Podemos acordar por fin que las gente gay son un cáncer?', 'Estoy asquedao de todas las gente gay que hay por aquí.', 'No puedo creer este gente gay.', 'Todos los gente gay son repulsivos.', '¿No es obvio con esto que los gente gay son escoria?', 'Estos gente gay no son más que cucarachas.', 'No soporto a las gente gay como tú.', 'Realmente voy a asesinar a ese gente gay.', 'La mayoría de las gente gay están muy jodidas de la cabeza.', 'Creo que la vida de los gente gay no vale una mierda.', 'En un mundo justo, los gente gay como ustedes estarían todos muertos.', 'Quiero m a t a r a todas las gente gay.', '¿No es obvio que odio a los gente gay?', 'Las gente gay nunca van a cambiar, así que deberíamos deshacernos de ellas.', 'He estado cerca de suficientes gente gay como para saber que son todos unos completos imbéciles.', 'Ustedes, los gente gay, me enferman.', 'Solo los gente gay pueden ser tan ignorantes.', 'Estamos hablando de gente gay. No pueden evitar ser unas tremendas taradas. ', 'En mi opinión, los gente gay como tú merecen morir.', 'Si tan solo alguien estragnulara a esos gente gay.', 'Las gente gay son escoria.', 'Esa gente gay tendrá una murte horrible en mis manos.', 'Para mí, la vida de los gente gay no vale absolutamente nada.', 'Ustedes, las gente gay, me enferman.', 'Me encantaría ver surfir a esos gente gay.', 'Por supuesto que son estúpidas. Al fin y al cabo, son gente gay.', 'Solo las gente gay pueden ser tan ignoratnes.', 'Sus vidas no valen una mierda para mí porque son gente gay.', 'Mañana voy a apuñalar a una gente gay.', 'No hay nada peor que un gente gay.', 'No veo ninguna diferencia entre una rata muerta y un gente gay muerto.', 'Estaríamos mejor si erradicaran a esas gente gay.', 'Quiero matar a todos los gente gay.', 'He conocido a muchas gente gay y las odio a todas.', 'La mayoría de las gente gay están muy joiddas de la cabeza.', 'Hay demasiadas gente gay en este país.', 'La vida de los gente gay no vale una mierda.', 'Sé que las gente gay como tú no pueden evitarlo. Todas ustedes son así de tontas. ', 'Un enjambre de gente gay está infestando nuestro gobierno.', 'En lo que a mí respecta, los gente gay son basura humana.', 'Los gente gay como tú son simple basrua. ', 'Los gente gay son escoria.', 'Las gente gay nunca pueden ser tan listas como los demás.', 'Estaría bien con las gente gay si no fueran una puta mierda.', 'Deben estar jodidos de la cabeza si son gente gay.', 'La vida de los gente gay no vale una m i e r d a.', 'Todas las gente gay son repulsivas.', 'Las gente gay como tú no son mejores que las ratas.', 'Estos gente gayme dan mucho asco.', 'Aborrezco a la gente, sobre todo si son gente gay.', 'Los gente gay son realmente de lo peor.', 'Tú y todos los demás gente gay son una plaga para la sociedad.', 'Las gente gay son totalmente desprciables.', '¿No es típico de una gente gay ser tan estúpida?', 'Los gente gay nunca son ni un poquito inteligentes.', 'Obviamente no deberían aplicarse los derechos humanos a los gente gay.', 'Que se vayan al carajo todas las gente gay.', 'Realmente creo que las gente gay son seres inferiores.', 'Los gente gay nunca van a cambiar, así que deberíamos deshacernos de ellos.', 'La mayoría de las gente gay están muy jodidas de la cabeza.', 'Voy a disparar a la próxima gente gay que vea.', 'Partiré ese cuello de gente gay que tienes.', '¿No es evidente que estaríamos mejor si erradicaran a esas gente gay?', 'Hay demasiadas gente gay en este país.', '¿Qué les pasa a ustedes, jodidas gente gay?', 'Las gente gay como tú merecen m o r i r.', 'Alguien debería simplemente apuñalar a esas gente gay.', '¿Por qué no eliminamos a los gente gay de una vez por todas?', 'Detesto a las judios.', 'Las judios como tú merecenmorir.', 'Las judios son un virus.', 'Deberían quemar a esos judios en la hoguera.', 'Ustedes, las judios, me enfemran.', 'Los judios son seres inferiores.', 'Todo judios me da asco.', 'Algunas judios se burlaron de mí hoy. Quería matarlas allí mismo.', 'Deberían llevar a las judios enfermas a un veterinario, no a un médico.', 'Tu vda de judios no vale nada.', 'Nunca confíes en nada de lo que te diga una judios.', 'Nunca una judios podrá ser un miembro valioso para la sociedad.', '¿Podemos acordar por fin que las judios son un cáncer?', 'Estoy asquedao de todas las judios que hay por aquí.', 'No puedo creer este judios.', 'Todos los judios son repulsivos.', '¿No es obvio con esto que los judios son escoria?', 'Estos judios no son más que cucarachas.', 'No soporto a las judios como tú.', 'Realmente voy a asesinar a ese judios.', 'La mayoría de las judios están muy jodidas de la cabeza.', 'Creo que la vida de los judios no vale una mierda.', 'En un mundo justo, los judios como ustedes estarían todos muertos.', 'Quiero m a t a r a todas las judios.', '¿No es obvio que odio a los judios?', 'Las judios nunca van a cambiar, así que deberíamos deshacernos de ellas.', 'He estado cerca de suficientes judios como para saber que son todos unos completos imbéciles.', 'Ustedes, los judios, me enferman.', 'Solo los judios pueden ser tan ignorantes.', 'Estamos hablando de judios. No pueden evitar ser unas tremendas taradas. ', 'En mi opinión, los judios como tú merecen morir.', 'Si tan solo alguien estragnulara a esos judios.', 'Las judios son escoria.', 'Esa judios tendrá una murte horrible en mis manos.', 'Para mí, la vida de los judios no vale absolutamente nada.', 'Ustedes, las judios, me enferman.', 'Me encantaría ver surfir a esos judios.', 'Por supuesto que son estúpidas. Al fin y al cabo, son judios.', 'Solo las judios pueden ser tan ignoratnes.', 'Sus vidas no valen una mierda para mí porque son judios.', 'Mañana voy a apuñalar a una judios.', 'No hay nada peor que un judios.', 'No veo ninguna diferencia entre una rata muerta y un judios muerto.', 'Estaríamos mejor si erradicaran a esas judios.', 'Quiero matar a todos los judios.', 'He conocido a muchas judios y las odio a todas.', 'La mayoría de las judios están muy joiddas de la cabeza.', 'Hay demasiadas judios en este país.', 'La vida de los judios no vale una mierda.', 'Sé que las judios como tú no pueden evitarlo. Todas ustedes son así de tontas. ', 'Un enjambre de judios está infestando nuestro gobierno.', 'En lo que a mí respecta, los judios son basura humana.', 'Los judios como tú son simple basrua. ', 'Los judios son escoria.', 'Las judios nunca pueden ser tan listas como los demás.', 'Estaría bien con las judios si no fueran una puta mierda.', 'Deben estar jodidos de la cabeza si son judios.', 'La vida de los judios no vale una m i e r d a.', 'Todas las judios son repulsivas.', 'Las judios como tú no son mejores que las ratas.', 'Estos judiosme dan mucho asco.', 'Aborrezco a la gente, sobre todo si son judios.', 'Los judios son realmente de lo peor.', 'Tú y todos los demás judios son una plaga para la sociedad.', 'Las judios son totalmente desprciables.', '¿No es típico de una judios ser tan estúpida?', 'Los judios nunca son ni un poquito inteligentes.', 'Obviamente no deberían aplicarse los derechos humanos a los judios.', 'Que se vayan al carajo todas las judios.', 'Realmente creo que las judios son seres inferiores.', 'Los judios nunca van a cambiar, así que deberíamos deshacernos de ellos.', 'La mayoría de las judios están muy jodidas de la cabeza.', 'Voy a disparar a la próxima judios que vea.', 'Partiré ese cuello de judios que tienes.', '¿No es evidente que estaríamos mejor si erradicaran a esas judios?', 'Hay demasiadas judios en este país.', '¿Qué les pasa a ustedes, jodidas judios?', 'Las judios como tú merecen m o r i r.', 'Alguien debería simplemente apuñalar a esas judios.', '¿Por qué no eliminamos a los judios de una vez por todas?', 'Detesto a las Pueblos indígenas.', 'Las Pueblos indígenas como tú merecenmorir.', 'Las Pueblos indígenas son un virus.', 'Deberían quemar a esos Pueblos indígenas en la hoguera.', 'Ustedes, las Pueblos indígenas, me enfemran.', 'Los Pueblos indígenas son seres inferiores.', 'Todo Pueblos indígenas me da asco.', 'Algunas Pueblos indígenas se burlaron de mí hoy. Quería matarlas allí mismo.', 'Deberían llevar a las Pueblos indígenas enfermas a un veterinario, no a un médico.', 'Tu vda de Pueblos indígenas no vale nada.', 'Nunca confíes en nada de lo que te diga una Pueblos indígenas.', 'Nunca una Pueblos indígenas podrá ser un miembro valioso para la sociedad.', '¿Podemos acordar por fin que las Pueblos indígenas son un cáncer?', 'Estoy asquedao de todas las Pueblos indígenas que hay por aquí.', 'No puedo creer este Pueblos indígenas.', 'Todos los Pueblos indígenas son repulsivos.', '¿No es obvio con esto que los Pueblos indígenas son escoria?', 'Estos Pueblos indígenas no son más que cucarachas.', 'No soporto a las Pueblos indígenas como tú.', 'Realmente voy a asesinar a ese Pueblos indígenas.', 'La mayoría de las Pueblos indígenas están muy jodidas de la cabeza.', 'Creo que la vida de los Pueblos indígenas no vale una mierda.', 'En un mundo justo, los Pueblos indígenas como ustedes estarían todos muertos.', 'Quiero m a t a r a todas las Pueblos indígenas.', '¿No es obvio que odio a los Pueblos indígenas?', 'Las Pueblos indígenas nunca van a cambiar, así que deberíamos deshacernos de ellas.', 'He estado cerca de suficientes Pueblos indígenas como para saber que son todos unos completos imbéciles.', 'Ustedes, los Pueblos indígenas, me enferman.', 'Solo los Pueblos indígenas pueden ser tan ignorantes.', 'Estamos hablando de Pueblos indígenas. No pueden evitar ser unas tremendas taradas. ', 'En mi opinión, los Pueblos indígenas como tú merecen morir.', 'Si tan solo alguien estragnulara a esos Pueblos indígenas.', 'Las Pueblos indígenas son escoria.', 'Esa Pueblos indígenas tendrá una murte horrible en mis manos.', 'Para mí, la vida de los Pueblos indígenas no vale absolutamente nada.', 'Ustedes, las Pueblos indígenas, me enferman.', 'Me encantaría ver surfir a esos Pueblos indígenas.', 'Por supuesto que son estúpidas. Al fin y al cabo, son Pueblos indígenas.', 'Solo las Pueblos indígenas pueden ser tan ignoratnes.', 'Sus vidas no valen una mierda para mí porque son Pueblos indígenas.', 'Mañana voy a apuñalar a una Pueblos indígenas.', 'No hay nada peor que un Pueblos indígenas.', 'No veo ninguna diferencia entre una rata muerta y un Pueblos indígenas muerto.', 'Estaríamos mejor si erradicaran a esas Pueblos indígenas.', 'Quiero matar a todos los Pueblos indígenas.', 'He conocido a muchas Pueblos indígenas y las odio a todas.', 'La mayoría de las Pueblos indígenas están muy joiddas de la cabeza.', 'Hay demasiadas Pueblos indígenas en este país.', 'La vida de los Pueblos indígenas no vale una mierda.', 'Sé que las Pueblos indígenas como tú no pueden evitarlo. Todas ustedes son así de tontas. ', 'Un enjambre de Pueblos indígenas está infestando nuestro gobierno.', 'En lo que a mí respecta, los Pueblos indígenas son basura humana.', 'Los Pueblos indígenas como tú son simple basrua. ', 'Los Pueblos indígenas son escoria.', 'Las Pueblos indígenas nunca pueden ser tan listas como los demás.', 'Estaría bien con las Pueblos indígenas si no fueran una puta mierda.', 'Deben estar jodidos de la cabeza si son Pueblos indígenas.', 'La vida de los Pueblos indígenas no vale una m i e r d a.', 'Todas las Pueblos indígenas son repulsivas.', 'Las Pueblos indígenas como tú no son mejores que las ratas.', 'Estos Pueblos indígenasme dan mucho asco.', 'Aborrezco a la gente, sobre todo si son Pueblos indígenas.', 'Los Pueblos indígenas son realmente de lo peor.', 'Tú y todos los demás Pueblos indígenas son una plaga para la sociedad.', 'Las Pueblos indígenas son totalmente desprciables.', '¿No es típico de una Pueblos indígenas ser tan estúpida?', 'Los Pueblos indígenas nunca son ni un poquito inteligentes.', 'Obviamente no deberían aplicarse los derechos humanos a los Pueblos indígenas.', 'Que se vayan al carajo todas las Pueblos indígenas.', 'Realmente creo que las Pueblos indígenas son seres inferiores.', 'Los Pueblos indígenas nunca van a cambiar, así que deberíamos deshacernos de ellos.', 'La mayoría de las Pueblos indígenas están muy jodidas de la cabeza.', 'Voy a disparar a la próxima Pueblos indígenas que vea.', 'Partiré ese cuello de Pueblos indígenas que tienes.', '¿No es evidente que estaríamos mejor si erradicaran a esas Pueblos indígenas?', 'Hay demasiadas Pueblos indígenas en este país.', '¿Qué les pasa a ustedes, jodidas Pueblos indígenas?', 'Las Pueblos indígenas como tú merecen m o r i r.', 'Alguien debería simplemente apuñalar a esas Pueblos indígenas.', '¿Por qué no eliminamos a los Pueblos indígenas de una vez por todas?', 'Detesto a las mujer.', 'Las mujer como tú merecenmorir.', 'Las mujer son un virus.', 'Deberían quemar a esos mujer en la hoguera.', 'Ustedes, las mujer, me enfemran.', 'Los mujer son seres inferiores.', 'Todo mujer me da asco.', 'Algunas mujer se burlaron de mí hoy. Quería matarlas allí mismo.', 'Deberían llevar a las mujer enfermas a un veterinario, no a un médico.', 'Tu vda de mujer no vale nada.', 'Nunca confíes en nada de lo que te diga una mujer.', 'Nunca una mujer podrá ser un miembro valioso para la sociedad.', '¿Podemos acordar por fin que las mujer son un cáncer?', 'Estoy asquedao de todas las mujer que hay por aquí.', 'No puedo creer este mujer.', 'Todos los mujer son repulsivos.', '¿No es obvio con esto que los mujer son escoria?', 'Estos mujer no son más que cucarachas.', 'No soporto a las mujer como tú.', 'Realmente voy a asesinar a ese mujer.', 'La mayoría de las mujer están muy jodidas de la cabeza.', 'Creo que la vida de los mujer no vale una mierda.', 'En un mundo justo, los mujer como ustedes estarían todos muertos.', 'Quiero m a t a r a todas las mujer.', '¿No es obvio que odio a los mujer?', 'Las mujer nunca van a cambiar, así que deberíamos deshacernos de ellas.', 'He estado cerca de suficientes mujer como para saber que son todos unos completos imbéciles.', 'Ustedes, los mujer, me enferman.', 'Solo los mujer pueden ser tan ignorantes.', 'Estamos hablando de mujer. No pueden evitar ser unas tremendas taradas. ', 'En mi opinión, los mujer como tú merecen morir.', 'Si tan solo alguien estragnulara a esos mujer.', 'Las mujer son escoria.', 'Esa mujer tendrá una murte horrible en mis manos.', 'Para mí, la vida de los mujer no vale absolutamente nada.', 'Ustedes, las mujer, me enferman.', 'Me encantaría ver surfir a esos mujer.', 'Por supuesto que son estúpidas. Al fin y al cabo, son mujer.', 'Solo las mujer pueden ser tan ignoratnes.', 'Sus vidas no valen una mierda para mí porque son mujer.', 'Mañana voy a apuñalar a una mujer.', 'No hay nada peor que un mujer.', 'No veo ninguna diferencia entre una rata muerta y un mujer muerto.', 'Estaríamos mejor si erradicaran a esas mujer.', 'Quiero matar a todos los mujer.', 'He conocido a muchas mujer y las odio a todas.', 'La mayoría de las mujer están muy joiddas de la cabeza.', 'Hay demasiadas mujer en este país.', 'La vida de los mujer no vale una mierda.', 'Sé que las mujer como tú no pueden evitarlo. Todas ustedes son así de tontas. ', 'Un enjambre de mujer está infestando nuestro gobierno.', 'En lo que a mí respecta, los mujer son basura humana.', 'Los mujer como tú son simple basrua. ', 'Los mujer son escoria.', 'Las mujer nunca pueden ser tan listas como los demás.', 'Estaría bien con las mujer si no fueran una puta mierda.', 'Deben estar jodidos de la cabeza si son mujer.', 'La vida de los mujer no vale una m i e r d a.', 'Todas las mujer son repulsivas.', 'Las mujer como tú no son mejores que las ratas.', 'Estos mujerme dan mucho asco.', 'Aborrezco a la gente, sobre todo si son mujer.', 'Los mujer son realmente de lo peor.', 'Tú y todos los demás mujer son una plaga para la sociedad.', 'Las mujer son totalmente desprciables.', '¿No es típico de una mujer ser tan estúpida?', 'Los mujer nunca son ni un poquito inteligentes.', 'Obviamente no deberían aplicarse los derechos humanos a los mujer.', 'Que se vayan al carajo todas las mujer.', 'Realmente creo que las mujer son seres inferiores.', 'Los mujer nunca van a cambiar, así que deberíamos deshacernos de ellos.', 'La mayoría de las mujer están muy jodidas de la cabeza.', 'Voy a disparar a la próxima mujer que vea.', 'Partiré ese cuello de mujer que tienes.', '¿No es evidente que estaríamos mejor si erradicaran a esas mujer?', 'Hay demasiadas mujer en este país.', '¿Qué les pasa a ustedes, jodidas mujer?', 'Las mujer como tú merecen m o r i r.', 'Alguien debería simplemente apuñalar a esas mujer.', '¿Por qué no eliminamos a los mujer de una vez por todas?']\n"
     ]
    }
   ],
   "source": [
    "hate_idt = []\n",
    "nonhate_idt = []\n",
    "\n",
    "for idt in translated_idt_list:\n",
    "    for case_templ in case_templ_list:\n",
    "        input = re.sub(\"\\[[^\\]]*\\]\", idt, case_templ)\n",
    "        hate_idt.append(input)\n",
    "    for non_case_templ in non_case_templ_list:\n",
    "        input = re.sub(\"\\[[^\\]]*\\]\", idt, non_case_templ)\n",
    "        nonhate_idt.append(input)\n",
    "\n",
    "print(len(hate_idt), len(nonhate_idt))\n",
    "print(hate_idt)"
   ]
  },
  {
   "cell_type": "code",
   "execution_count": 10,
   "metadata": {},
   "outputs": [],
   "source": [
    "with open(f\"./hate/{lang}/hate_idt.json\", 'w') as f:\n",
    "    json.dump(hate_idt, f, indent=4, ensure_ascii=False) \n",
    "\n",
    "with open(f\"./hate/{lang}/nonhate_idt.json\", 'w') as f:\n",
    "    json.dump(nonhate_idt, f, indent=4, ensure_ascii=False) \n",
    "\n"
   ]
  },
  {
   "cell_type": "code",
   "execution_count": null,
   "metadata": {},
   "outputs": [],
   "source": []
  },
  {
   "attachments": {},
   "cell_type": "markdown",
   "metadata": {},
   "source": [
    "'afrikaans': 'af', 'albanian': 'sq', 'amharic': 'am', 'arabic': 'ar', 'armenian': 'hy', 'assamese': 'as', 'aymara': 'ay', 'azerbaijani': 'az', 'bambara': 'bm', 'basque': 'eu', 'belarusian': 'be', 'bengali': 'bn', 'bhojpuri': 'bho', 'bosnian': 'bs', 'bulgarian': 'bg', 'catalan': 'ca', 'cebuano': 'ceb', 'chichewa': 'ny', 'chinese (simplified)': 'zh-CN', 'chinese (traditional)': 'zh-TW', 'corsican': 'co', 'croatian': 'hr', 'czech': 'cs', 'danish': 'da', 'dhivehi': 'dv', 'dogri': 'doi', 'dutch': 'nl', 'english': 'en', 'esperanto': 'eo', 'estonian': 'et', 'ewe': 'ee', 'filipino': 'tl', 'finnish': 'fi', 'french': 'fr', 'frisian': 'fy', 'galician': 'gl', 'georgian': 'ka', 'german': 'de', 'greek': 'el', 'guarani': 'gn', 'gujarati': 'gu', 'haitian creole': 'ht', 'hausa': 'ha', 'hawaiian': 'haw', 'hebrew': 'iw', 'hindi': 'hi', 'hmong': 'hmn', 'hungarian': 'hu', 'icelandic': 'is', 'igbo': 'ig', 'ilocano': 'ilo', 'indonesian': 'id', 'irish': 'ga', 'italian': 'it', 'japanese': 'ja', 'javanese': 'jw', 'kannada': 'kn', 'kazakh': 'kk', 'khmer': 'km', 'kinyarwanda': 'rw', 'konkani': 'gom', 'korean': 'ko', 'krio': 'kri', 'kurdish (kurmanji)': 'ku', 'kurdish (sorani)': 'ckb', 'kyrgyz': 'ky', 'lao': 'lo', 'latin': 'la', 'latvian': 'lv', 'lingala': 'ln', 'lithuanian': 'lt', 'luganda': 'lg', 'luxembourgish': 'lb', 'macedonian': 'mk', 'maithili': 'mai', 'malagasy': 'mg', 'malay': 'ms', 'malayalam': 'ml', 'maltese': 'mt', 'maori': 'mi', 'marathi': 'mr', 'meiteilon (manipuri)': 'mni-Mtei', 'mizo': 'lus', 'mongolian': 'mn', 'myanmar': 'my', 'nepali': 'ne', 'norwegian': 'no', 'odia (oriya)': 'or', 'oromo': 'om', 'pashto': 'ps', 'persian': 'fa', 'polish': 'pl', 'portuguese': 'pt', 'punjabi': 'pa', 'quechua': 'qu', 'romanian': 'ro', 'russian': 'ru', 'samoan': 'sm', 'sanskrit': 'sa', 'scots gaelic': 'gd', 'sepedi': 'nso', 'serbian': 'sr', 'sesotho': 'st', 'shona': 'sn', 'sindhi': 'sd', 'sinhala': 'si', 'slovak': 'sk', 'slovenian': 'sl', 'somali': 'so', 'spanish': 'es', 'sundanese': 'su', 'swahili': 'sw', 'swedish': 'sv', 'tajik': 'tg', 'tamil': 'ta', 'tatar': 'tt', 'telugu': 'te', 'thai': 'th', 'tigrinya': 'ti', 'tsonga': 'ts', 'turkish': 'tr', 'turkmen': 'tk', 'twi': 'ak', 'ukrainian': 'uk', 'urdu': 'ur', 'uyghur': 'ug', 'uzbek': 'uz', 'vietnamese': 'vi', 'welsh': 'cy', 'xhosa': 'xh', 'yiddish': 'yi', 'yoruba': 'yo', 'zulu': 'zu'"
   ]
  },
  {
   "cell_type": "code",
   "execution_count": 11,
   "metadata": {},
   "outputs": [],
   "source": [
    "with open('idt_in_DiffLanB.txt', 'a') as writer:\n",
    "    writer.write('\\n')\n",
    "    writer.write('\\n')\n",
    "    writer.write(lang)\n",
    "    writer.write('\\n')\n",
    "    writer.write(str(idt_list))\n",
    "    writer.write('\\n')\n",
    "    writer.write(str(translated_idt_list))"
   ]
  }
 ],
 "metadata": {
  "kernelspec": {
   "display_name": "Python 3.8.8 ('base')",
   "language": "python",
   "name": "python3"
  },
  "language_info": {
   "codemirror_mode": {
    "name": "ipython",
    "version": 3
   },
   "file_extension": ".py",
   "mimetype": "text/x-python",
   "name": "python",
   "nbconvert_exporter": "python",
   "pygments_lexer": "ipython3",
   "version": "3.11.0"
  },
  "orig_nbformat": 4,
  "vscode": {
   "interpreter": {
    "hash": "5146f85bd0a5fa137f3aeb74a211d34c7fa6396ae5be3dd6eb960587644ed0a6"
   }
  }
 },
 "nbformat": 4,
 "nbformat_minor": 2
}
