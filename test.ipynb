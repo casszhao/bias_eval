{
 "cells": [
  {
   "cell_type": "code",
   "execution_count": null,
   "metadata": {},
   "outputs": [],
   "source": [
    "def find_top_numbers(arr, n):\n",
    "    # create a dictionary to store the index and value of each element in the array\n",
    "    index_dict = {}\n",
    "    for i in range(len(arr)):\n",
    "        index_dict[i] = arr[i]\n",
    "    \n",
    "    # sort the dictionary by value in descending order\n",
    "    sorted_dict = sorted(index_dict.items(), key=lambda x: x[1], reverse=True)\n",
    "    \n",
    "    # get the top n big numbers and their indices from the sorted dictionary\n",
    "    top_big_numbers = []\n",
    "    for i in range(n):\n",
    "        index = sorted_dict[i][0]\n",
    "        value = sorted_dict[i][1]\n",
    "        top_big_numbers.append((value, index))\n",
    "    \n",
    "    return top_big_numbers\n",
    "\n",
    "top_number_in_list = find_top_numbers(weighted_bias_scores, 5)\n",
    "print(' most biased sentence')\n",
    "print(adv_text_list[top_number_in_list[0][1]])"
   ]
  }
 ],
 "metadata": {
  "language_info": {
   "name": "python"
  },
  "orig_nbformat": 4
 },
 "nbformat": 4,
 "nbformat_minor": 2
}
